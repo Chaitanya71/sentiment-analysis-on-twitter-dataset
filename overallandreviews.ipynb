{
 "cells": [
  {
   "cell_type": "code",
   "execution_count": 21,
   "id": "9a218ca8",
   "metadata": {},
   "outputs": [],
   "source": [
    "# import json\n",
    "# data = dict()\n",
    "# over_all = list()\n",
    "# review_text = list()\n",
    "# with open('dataset.json') as f:\n",
    "#     for index, line in enumerate(f):\n",
    "#         line = json.loads(line)\n",
    "#         if line.get('overall') and line.get('reviewText') and index<80000:\n",
    "#             over_all.append(line['overall'])\n",
    "#             review_text.append(line['reviewText'])\n",
    "        \n",
    "# data.update({'overall': over_all, 'reviewText': review_text})\n",
    "# json_file = open('magazine_dataset.json', 'w')\n",
    "# json_file.write(json.dumps(data))\n",
    "# json_file.close()"
   ]
  },
  {
   "cell_type": "code",
   "execution_count": 7,
   "id": "8c534f9e",
   "metadata": {},
   "outputs": [
    {
     "data": {
      "text/plain": [
       "'/Users/chaitanya/Downloads'"
      ]
     },
     "execution_count": 7,
     "metadata": {},
     "output_type": "execute_result"
    }
   ],
   "source": [
    "import os\n",
    "os.getcwd()"
   ]
  },
  {
   "cell_type": "code",
   "execution_count": 8,
   "id": "ecbae22e",
   "metadata": {},
   "outputs": [],
   "source": [
    "import pandas as pd\n",
    "df = pd.read_json('magazine_dataset.json')"
   ]
  },
  {
   "cell_type": "code",
   "execution_count": 9,
   "id": "361ce337",
   "metadata": {},
   "outputs": [
    {
     "data": {
      "text/html": [
       "<div>\n",
       "<style scoped>\n",
       "    .dataframe tbody tr th:only-of-type {\n",
       "        vertical-align: middle;\n",
       "    }\n",
       "\n",
       "    .dataframe tbody tr th {\n",
       "        vertical-align: top;\n",
       "    }\n",
       "\n",
       "    .dataframe thead th {\n",
       "        text-align: right;\n",
       "    }\n",
       "</style>\n",
       "<table border=\"1\" class=\"dataframe\">\n",
       "  <thead>\n",
       "    <tr style=\"text-align: right;\">\n",
       "      <th></th>\n",
       "      <th>overall</th>\n",
       "      <th>reviewText</th>\n",
       "    </tr>\n",
       "  </thead>\n",
       "  <tbody>\n",
       "    <tr>\n",
       "      <th>0</th>\n",
       "      <td>5</td>\n",
       "      <td>for computer enthusiast, MaxPC is a welcome si...</td>\n",
       "    </tr>\n",
       "    <tr>\n",
       "      <th>1</th>\n",
       "      <td>5</td>\n",
       "      <td>Thank god this is not a Ziff Davis publication...</td>\n",
       "    </tr>\n",
       "    <tr>\n",
       "      <th>2</th>\n",
       "      <td>3</td>\n",
       "      <td>Antiques Magazine is a publication made for an...</td>\n",
       "    </tr>\n",
       "    <tr>\n",
       "      <th>3</th>\n",
       "      <td>5</td>\n",
       "      <td>This beautiful magazine is in itself a work of...</td>\n",
       "    </tr>\n",
       "    <tr>\n",
       "      <th>4</th>\n",
       "      <td>5</td>\n",
       "      <td>A great read every issue.</td>\n",
       "    </tr>\n",
       "    <tr>\n",
       "      <th>...</th>\n",
       "      <td>...</td>\n",
       "      <td>...</td>\n",
       "    </tr>\n",
       "    <tr>\n",
       "      <th>95</th>\n",
       "      <td>4</td>\n",
       "      <td>I've subscribed for years. The gold box price ...</td>\n",
       "    </tr>\n",
       "    <tr>\n",
       "      <th>96</th>\n",
       "      <td>5</td>\n",
       "      <td>Love the magazine.  The price through Amazon i...</td>\n",
       "    </tr>\n",
       "    <tr>\n",
       "      <th>97</th>\n",
       "      <td>5</td>\n",
       "      <td>If you into gaming, into the latest PC tech in...</td>\n",
       "    </tr>\n",
       "    <tr>\n",
       "      <th>98</th>\n",
       "      <td>1</td>\n",
       "      <td>You'll receive a notice an auto-renew notice 9...</td>\n",
       "    </tr>\n",
       "    <tr>\n",
       "      <th>99</th>\n",
       "      <td>5</td>\n",
       "      <td>Excellent price for a 2-year renewal/subscript...</td>\n",
       "    </tr>\n",
       "  </tbody>\n",
       "</table>\n",
       "<p>100 rows × 2 columns</p>\n",
       "</div>"
      ],
      "text/plain": [
       "    overall                                         reviewText\n",
       "0         5  for computer enthusiast, MaxPC is a welcome si...\n",
       "1         5  Thank god this is not a Ziff Davis publication...\n",
       "2         3  Antiques Magazine is a publication made for an...\n",
       "3         5  This beautiful magazine is in itself a work of...\n",
       "4         5                          A great read every issue.\n",
       "..      ...                                                ...\n",
       "95        4  I've subscribed for years. The gold box price ...\n",
       "96        5  Love the magazine.  The price through Amazon i...\n",
       "97        5  If you into gaming, into the latest PC tech in...\n",
       "98        1  You'll receive a notice an auto-renew notice 9...\n",
       "99        5  Excellent price for a 2-year renewal/subscript...\n",
       "\n",
       "[100 rows x 2 columns]"
      ]
     },
     "execution_count": 9,
     "metadata": {},
     "output_type": "execute_result"
    }
   ],
   "source": [
    "df"
   ]
  },
  {
   "cell_type": "code",
   "execution_count": 10,
   "id": "1448b70c",
   "metadata": {},
   "outputs": [],
   "source": [
    "# try to remove punctuations , stops words , lower the text, remove numbers, \n",
    "#special characters, trailing spaces from reviewText column"
   ]
  },
  {
   "cell_type": "code",
   "execution_count": 11,
   "id": "dc477af4",
   "metadata": {},
   "outputs": [
    {
     "name": "stderr",
     "output_type": "stream",
     "text": [
      "[nltk_data] Downloading package punkt to /Users/chaitanya/nltk_data...\n",
      "[nltk_data]   Package punkt is already up-to-date!\n",
      "[nltk_data] Downloading package stopwords to\n",
      "[nltk_data]     /Users/chaitanya/nltk_data...\n",
      "[nltk_data]   Package stopwords is already up-to-date!\n",
      "[nltk_data] Downloading package wordnet to\n",
      "[nltk_data]     /Users/chaitanya/nltk_data...\n",
      "[nltk_data]   Package wordnet is already up-to-date!\n"
     ]
    },
    {
     "name": "stdout",
     "output_type": "stream",
     "text": [
      "   overall                                         reviewText\n",
      "0        5  computer enthusiast maxpc welcome sight mailbo...\n",
      "1        5  thank god ziff davis publication maxpc actuall...\n",
      "2        3  antique magazine publication made antique love...\n",
      "3        5  beautiful magazine work art quality every page...\n",
      "4        5                             great read every issue\n"
     ]
    }
   ],
   "source": [
    "import pandas as pd\n",
    "import string\n",
    "import re\n",
    "import nltk\n",
    "from nltk.corpus import stopwords\n",
    "from nltk.tokenize import word_tokenize\n",
    "from nltk.stem import WordNetLemmatizer\n",
    "\n",
    "# Download necessary NLTK data\n",
    "nltk.download('punkt')\n",
    "nltk.download('stopwords')\n",
    "nltk.download('wordnet')\n",
    "\n",
    "# Load the dataset\n",
    "df = pd.read_json('magazine_dataset.json')\n",
    "\n",
    "# Define stop words and punctuation\n",
    "stop_words = set(stopwords.words('english'))\n",
    "punctuation = set(string.punctuation)\n",
    "\n",
    "# Initialize lemmatizer\n",
    "lemmatizer = WordNetLemmatizer()\n",
    "\n",
    "# Define a function to clean the text\n",
    "def clean_text(text):\n",
    "    # Lowercase the text\n",
    "    text = text.lower()\n",
    "    # Remove numbers\n",
    "    text = re.sub(r'\\d+', '', text)\n",
    "    # Remove special characters\n",
    "    text = re.sub(r'[^\\w\\s]', '', text)\n",
    "    # Tokenize the text\n",
    "    tokens = word_tokenize(text)\n",
    "    # Remove stop words and punctuation\n",
    "    tokens = [word for word in tokens if word not in stop_words and word not in punctuation]\n",
    "    # Lemmatize the words\n",
    "    tokens = [lemmatizer.lemmatize(word) for word in tokens]\n",
    "    # Remove trailing spaces\n",
    "    tokens = [word.strip() for word in tokens]\n",
    "    # Join the tokens back into a string\n",
    "    clean_text = ' '.join(tokens)\n",
    "    return clean_text\n",
    "\n",
    "# Clean the reviewText column\n",
    "df['reviewText'] = df['reviewText'].apply(clean_text)\n",
    "\n",
    "# Print the cleaned dataset\n",
    "print(df.head())\n"
   ]
  },
  {
   "cell_type": "code",
   "execution_count": 12,
   "id": "cb6812f5",
   "metadata": {},
   "outputs": [
    {
     "data": {
      "text/html": [
       "<div>\n",
       "<style scoped>\n",
       "    .dataframe tbody tr th:only-of-type {\n",
       "        vertical-align: middle;\n",
       "    }\n",
       "\n",
       "    .dataframe tbody tr th {\n",
       "        vertical-align: top;\n",
       "    }\n",
       "\n",
       "    .dataframe thead th {\n",
       "        text-align: right;\n",
       "    }\n",
       "</style>\n",
       "<table border=\"1\" class=\"dataframe\">\n",
       "  <thead>\n",
       "    <tr style=\"text-align: right;\">\n",
       "      <th></th>\n",
       "      <th>overall</th>\n",
       "      <th>reviewText</th>\n",
       "    </tr>\n",
       "  </thead>\n",
       "  <tbody>\n",
       "    <tr>\n",
       "      <th>0</th>\n",
       "      <td>5</td>\n",
       "      <td>computer enthusiast maxpc welcome sight mailbo...</td>\n",
       "    </tr>\n",
       "    <tr>\n",
       "      <th>1</th>\n",
       "      <td>5</td>\n",
       "      <td>thank god ziff davis publication maxpc actuall...</td>\n",
       "    </tr>\n",
       "    <tr>\n",
       "      <th>2</th>\n",
       "      <td>3</td>\n",
       "      <td>antique magazine publication made antique love...</td>\n",
       "    </tr>\n",
       "    <tr>\n",
       "      <th>3</th>\n",
       "      <td>5</td>\n",
       "      <td>beautiful magazine work art quality every page...</td>\n",
       "    </tr>\n",
       "    <tr>\n",
       "      <th>4</th>\n",
       "      <td>5</td>\n",
       "      <td>great read every issue</td>\n",
       "    </tr>\n",
       "  </tbody>\n",
       "</table>\n",
       "</div>"
      ],
      "text/plain": [
       "   overall                                         reviewText\n",
       "0        5  computer enthusiast maxpc welcome sight mailbo...\n",
       "1        5  thank god ziff davis publication maxpc actuall...\n",
       "2        3  antique magazine publication made antique love...\n",
       "3        5  beautiful magazine work art quality every page...\n",
       "4        5                             great read every issue"
      ]
     },
     "execution_count": 12,
     "metadata": {},
     "output_type": "execute_result"
    }
   ],
   "source": [
    "df.head(5)"
   ]
  },
  {
   "cell_type": "code",
   "execution_count": 13,
   "id": "89ed1c5b",
   "metadata": {},
   "outputs": [],
   "source": [
    "# identifying unique vocabulary"
   ]
  },
  {
   "cell_type": "code",
   "execution_count": 14,
   "id": "9eb83b37",
   "metadata": {},
   "outputs": [],
   "source": [
    "vocabulary = list()\n",
    "for sentence in df['reviewText']:\n",
    "    vocabulary.extend(sentence.split(' '))"
   ]
  },
  {
   "cell_type": "code",
   "execution_count": 15,
   "id": "4f752482",
   "metadata": {},
   "outputs": [
    {
     "name": "stdout",
     "output_type": "stream",
     "text": [
      "4066\n"
     ]
    }
   ],
   "source": [
    "print(len(vocabulary))"
   ]
  },
  {
   "cell_type": "code",
   "execution_count": 97,
   "id": "a953d55b",
   "metadata": {},
   "outputs": [],
   "source": [
    "# excluding words/tokens which have frequency less than 10\n",
    "from collections import Counter\n",
    "vocabulary_frequency = Counter(vocabulary)\n",
    "new_vocaabulary = [token for token in set(vocabulary) if vocabulary_frequency[token] > 2]"
   ]
  },
  {
   "cell_type": "code",
   "execution_count": 98,
   "id": "98413a51",
   "metadata": {},
   "outputs": [
    {
     "name": "stdout",
     "output_type": "stream",
     "text": [
      "351\n"
     ]
    }
   ],
   "source": [
    "print(len(new_vocaabulary))"
   ]
  },
  {
   "cell_type": "code",
   "execution_count": 99,
   "id": "c15d27aa",
   "metadata": {},
   "outputs": [
    {
     "data": {
      "text/plain": [
       "['ended',\n",
       " 'subscribe',\n",
       " 'buy',\n",
       " 'performance',\n",
       " 'art',\n",
       " 'interested',\n",
       " 'point',\n",
       " 'number',\n",
       " 'helpful',\n",
       " 'since',\n",
       " 'nothing',\n",
       " 'advertisement',\n",
       " 'today',\n",
       " 'cancel',\n",
       " 'humor']"
      ]
     },
     "execution_count": 99,
     "metadata": {},
     "output_type": "execute_result"
    }
   ],
   "source": [
    "new_vocaabulary[:15]"
   ]
  },
  {
   "cell_type": "code",
   "execution_count": 100,
   "id": "dfe43f8f",
   "metadata": {},
   "outputs": [
    {
     "data": {
      "text/plain": [
       "array([[0, 0, 0, ..., 0, 1, 0],\n",
       "       [0, 1, 0, ..., 0, 0, 0],\n",
       "       [0, 0, 0, ..., 0, 0, 0],\n",
       "       ...,\n",
       "       [0, 0, 0, ..., 0, 1, 0],\n",
       "       [0, 0, 0, ..., 0, 0, 1],\n",
       "       [0, 0, 0, ..., 0, 1, 0]])"
      ]
     },
     "execution_count": 100,
     "metadata": {},
     "output_type": "execute_result"
    }
   ],
   "source": [
    "from sklearn.feature_extraction.text import CountVectorizer\n",
    "\n",
    "# lets order the vocabulary in alphabetical order\n",
    "new_vocaabulary = sorted(new_vocaabulary) # these are our features\n",
    "\n",
    "vectorizer = CountVectorizer(vocabulary=new_vocaabulary)\n",
    "bag_of_words = vectorizer.fit_transform([reviews for reviews in df['reviewText']])\n",
    "\n",
    "# Print the bag of words\n",
    "bag_of_words = bag_of_words.toarray()\n",
    "bag_of_words"
   ]
  },
  {
   "cell_type": "code",
   "execution_count": 101,
   "id": "8cd8ac0f",
   "metadata": {},
   "outputs": [],
   "source": [
    "from sklearn.linear_model import LogisticRegression"
   ]
  },
  {
   "cell_type": "code",
   "execution_count": 102,
   "id": "d4eff885",
   "metadata": {},
   "outputs": [],
   "source": [
    "LR = LogisticRegression()"
   ]
  },
  {
   "cell_type": "code",
   "execution_count": 103,
   "id": "6fed3110",
   "metadata": {},
   "outputs": [],
   "source": [
    "from sklearn.model_selection import train_test_split"
   ]
  },
  {
   "cell_type": "code",
   "execution_count": 104,
   "id": "b8192028",
   "metadata": {},
   "outputs": [],
   "source": [
    "X_train, X_test, y_train, y_test = train_test_split(bag_of_words, df['overall'],\n",
    "                                                    test_size=0.3, random_state=42, stratify= df['overall'])"
   ]
  },
  {
   "cell_type": "code",
   "execution_count": 105,
   "id": "54a556bf",
   "metadata": {},
   "outputs": [
    {
     "data": {
      "text/plain": [
       "LogisticRegression()"
      ]
     },
     "execution_count": 105,
     "metadata": {},
     "output_type": "execute_result"
    }
   ],
   "source": [
    "LR.fit(X_train, y_train)"
   ]
  },
  {
   "cell_type": "code",
   "execution_count": 106,
   "id": "49941489",
   "metadata": {},
   "outputs": [
    {
     "data": {
      "text/plain": [
       "0.6666666666666666"
      ]
     },
     "execution_count": 106,
     "metadata": {},
     "output_type": "execute_result"
    }
   ],
   "source": [
    "LR.score(X_test, y_test)"
   ]
  },
  {
   "cell_type": "code",
   "execution_count": 107,
   "id": "ce3c0eea",
   "metadata": {},
   "outputs": [],
   "source": [
    "from sklearn.model_selection import KFold, cross_val_score"
   ]
  },
  {
   "cell_type": "code",
   "execution_count": 108,
   "id": "d0b6f909",
   "metadata": {},
   "outputs": [],
   "source": [
    "# Define the number of folds for cross validation\n",
    "k = 5"
   ]
  },
  {
   "cell_type": "code",
   "execution_count": 109,
   "id": "5afa3a1b",
   "metadata": {},
   "outputs": [],
   "source": [
    "# Create a k-fold cross validation object\n",
    "kf = KFold(n_splits=k, shuffle=True, random_state=42)"
   ]
  },
  {
   "cell_type": "code",
   "execution_count": 110,
   "id": "7267e56d",
   "metadata": {},
   "outputs": [],
   "source": [
    "# Train and evaluate the model using k-fold cross validation\n",
    "scores = cross_val_score(LR, bag_of_words, df['overall'], cv=kf)"
   ]
  },
  {
   "cell_type": "code",
   "execution_count": 111,
   "id": "f4b933da",
   "metadata": {},
   "outputs": [],
   "source": [
    "from sklearn.metrics import f1_score"
   ]
  },
  {
   "cell_type": "code",
   "execution_count": 112,
   "id": "ba4e9752",
   "metadata": {},
   "outputs": [],
   "source": [
    "y_pred = LR.predict(X_test)\n",
    "f1 = f1_score(y_test, y_pred, average='weighted')"
   ]
  },
  {
   "cell_type": "code",
   "execution_count": 113,
   "id": "3d6096d5",
   "metadata": {},
   "outputs": [
    {
     "name": "stdout",
     "output_type": "stream",
     "text": [
      "F1 Score: 0.5333333333333333\n"
     ]
    }
   ],
   "source": [
    "print(\"F1 Score:\", f1)"
   ]
  },
  {
   "cell_type": "code",
   "execution_count": 114,
   "id": "22383ee9",
   "metadata": {},
   "outputs": [],
   "source": [
    "import matplotlib.pyplot as plt\n",
    "from sklearn.metrics import plot_confusion_matrix"
   ]
  },
  {
   "cell_type": "code",
   "execution_count": 115,
   "id": "860d4a1a",
   "metadata": {},
   "outputs": [
    {
     "name": "stderr",
     "output_type": "stream",
     "text": [
      "/Users/chaitanya/opt/anaconda3/lib/python3.9/site-packages/sklearn/utils/deprecation.py:87: FutureWarning: Function plot_confusion_matrix is deprecated; Function `plot_confusion_matrix` is deprecated in 1.0 and will be removed in 1.2. Use one of the class methods: ConfusionMatrixDisplay.from_predictions or ConfusionMatrixDisplay.from_estimator.\n",
      "  warnings.warn(msg, category=FutureWarning)\n"
     ]
    },
    {
     "data": {
      "image/png": "[encoded data removed]",
      "text/plain": [
       "<Figure size 432x288 with 2 Axes>"
      ]
     },
     "metadata": {
      "needs_background": "light"
     },
     "output_type": "display_data"
    }
   ],
   "source": [
    "plot_confusion_matrix(LR, X_test, y_test)\n",
    "plt.show()"
   ]
  },
  {
   "cell_type": "code",
   "execution_count": 116,
   "id": "ea7e0135",
   "metadata": {},
   "outputs": [],
   "source": [
    "plt.show()"
   ]
  },
  {
   "cell_type": "code",
   "execution_count": 117,
   "id": "a09b5aa6",
   "metadata": {},
   "outputs": [
    {
     "name": "stdout",
     "output_type": "stream",
     "text": [
      "Cross validation scores: [0.7  0.65 0.65 0.7  0.55]\n"
     ]
    }
   ],
   "source": [
    "# Print the cross validation scores\n",
    "print('Cross validation scores:', scores)"
   ]
  },
  {
   "cell_type": "code",
   "execution_count": 118,
   "id": "271cf3c4",
   "metadata": {},
   "outputs": [
    {
     "name": "stdout",
     "output_type": "stream",
     "text": [
      "Mean score: 0.65\n"
     ]
    }
   ],
   "source": [
    "print('Mean score:', scores.mean())"
   ]
  },
  {
   "cell_type": "code",
   "execution_count": 119,
   "id": "3d63aa59",
   "metadata": {},
   "outputs": [
    {
     "name": "stdout",
     "output_type": "stream",
     "text": [
      "Standard deviation: 0.05477225575051658\n"
     ]
    }
   ],
   "source": [
    "print('Standard deviation:', scores.std())"
   ]
  },
  {
   "cell_type": "code",
   "execution_count": 120,
   "id": "7db7298d",
   "metadata": {},
   "outputs": [],
   "source": [
    "from sklearn.naive_bayes import MultinomialNB\n",
    "from sklearn.metrics import confusion_matrix\n",
    "import seaborn as sns\n",
    "import matplotlib.pyplot as plt"
   ]
  },
  {
   "cell_type": "code",
   "execution_count": 121,
   "id": "e086ad5c",
   "metadata": {},
   "outputs": [],
   "source": [
    "# Naive Bayes model\n",
    "NB = MultinomialNB()"
   ]
  },
  {
   "cell_type": "code",
   "execution_count": 122,
   "id": "09820e6a",
   "metadata": {},
   "outputs": [
    {
     "data": {
      "text/plain": [
       "MultinomialNB()"
      ]
     },
     "execution_count": 122,
     "metadata": {},
     "output_type": "execute_result"
    }
   ],
   "source": [
    "NB.fit(X_train, y_train)"
   ]
  },
  {
   "cell_type": "code",
   "execution_count": 123,
   "id": "bcec89e2",
   "metadata": {},
   "outputs": [],
   "source": [
    "y_pred = NB.predict(X_test)"
   ]
  },
  {
   "cell_type": "code",
   "execution_count": 124,
   "id": "c4d9221b",
   "metadata": {},
   "outputs": [
    {
     "name": "stdout",
     "output_type": "stream",
     "text": [
      "Accuracy: 0.6\n"
     ]
    }
   ],
   "source": [
    "print(\"Accuracy:\", NB.score(X_test, y_test))"
   ]
  },
  {
   "cell_type": "code",
   "execution_count": 125,
   "id": "16b402ca",
   "metadata": {},
   "outputs": [],
   "source": [
    "cm = confusion_matrix(y_test, y_pred)"
   ]
  },
  {
   "cell_type": "code",
   "execution_count": 126,
   "id": "aae39d43",
   "metadata": {},
   "outputs": [
    {
     "data": {
      "image/png": "[encoded data removed]",
      "text/plain": [
       "<Figure size 720x504 with 2 Axes>"
      ]
     },
     "metadata": {
      "needs_background": "light"
     },
     "output_type": "display_data"
    }
   ],
   "source": [
    "plt.figure(figsize=(10,7))\n",
    "sns.heatmap(cm, annot=True, cmap='Blues')\n",
    "plt.xlabel('Predicted')\n",
    "plt.ylabel('Actual')\n",
    "plt.show()"
   ]
  },
  {
   "cell_type": "code",
   "execution_count": 127,
   "id": "6dc14c21",
   "metadata": {},
   "outputs": [],
   "source": [
    "from sklearn.model_selection import KFold\n",
    "from sklearn.metrics import accuracy_score"
   ]
  },
  {
   "cell_type": "code",
   "execution_count": 128,
   "id": "d2301cab",
   "metadata": {},
   "outputs": [],
   "source": [
    "n_splits = 5"
   ]
  },
  {
   "cell_type": "code",
   "execution_count": 129,
   "id": "b674579d",
   "metadata": {},
   "outputs": [],
   "source": [
    "kf = KFold(n_splits=n_splits, shuffle=True, random_state=42)"
   ]
  },
  {
   "cell_type": "code",
   "execution_count": 130,
   "id": "6c1c1aa6",
   "metadata": {},
   "outputs": [],
   "source": [
    "accuracy_scores = []"
   ]
  },
  {
   "cell_type": "code",
   "execution_count": 131,
   "id": "b16ac350",
   "metadata": {},
   "outputs": [
    {
     "name": "stdout",
     "output_type": "stream",
     "text": [
      "Fold: 1\n",
      "Accuracy: 0.65\n",
      "Fold: 2\n",
      "Accuracy: 0.6\n",
      "Fold: 3\n",
      "Accuracy: 0.65\n",
      "Fold: 4\n",
      "Accuracy: 0.65\n",
      "Fold: 5\n",
      "Accuracy: 0.5\n"
     ]
    }
   ],
   "source": [
    "for fold, (train_index, test_index) in enumerate(kf.split(bag_of_words)):\n",
    "    \n",
    "    # Print the current fold\n",
    "    print(\"Fold:\", fold+1)\n",
    "    \n",
    "    # Get the training and test data for this fold\n",
    "    X_train, X_test = bag_of_words[train_index], bag_of_words[test_index]\n",
    "    y_train, y_test = df['overall'][train_index], df['overall'][test_index]\n",
    "    \n",
    "    # Initialize Naive Bayes model\n",
    "    NB = MultinomialNB()\n",
    "\n",
    "    # Fit the model on the training data\n",
    "    NB.fit(X_train, y_train)\n",
    "\n",
    "    # Predict the classes on test data\n",
    "    y_pred = NB.predict(X_test)\n",
    "\n",
    "    # Compute accuracy score and append to list\n",
    "    accuracy_scores.append(accuracy_score(y_test, y_pred))\n",
    "\n",
    "    # Print the accuracy score for this fold\n",
    "    print(\"Accuracy:\", accuracy_scores[-1])"
   ]
  },
  {
   "cell_type": "code",
   "execution_count": 132,
   "id": "1dc521ef",
   "metadata": {},
   "outputs": [
    {
     "name": "stdout",
     "output_type": "stream",
     "text": [
      "Average Accuracy: 0.61\n"
     ]
    }
   ],
   "source": [
    "print(\"Average Accuracy:\", sum(accuracy_scores)/n_splits)"
   ]
  },
  {
   "cell_type": "code",
   "execution_count": 133,
   "id": "3185c2f6",
   "metadata": {},
   "outputs": [],
   "source": [
    "f1score = f1_score(y_test, y_pred, average='macro')"
   ]
  },
  {
   "cell_type": "code",
   "execution_count": 134,
   "id": "d7cf6d50",
   "metadata": {},
   "outputs": [
    {
     "name": "stdout",
     "output_type": "stream",
     "text": [
      "F1 Score: 0.22400000000000003\n"
     ]
    }
   ],
   "source": [
    "print('F1 Score:', f1score)"
   ]
  },
  {
   "cell_type": "code",
   "execution_count": null,
   "id": "a3de83f5",
   "metadata": {},
   "outputs": [],
   "source": []
  },
  {
   "cell_type": "code",
   "execution_count": null,
   "id": "79cf737e",
   "metadata": {},
   "outputs": [],
   "source": []
  }
 ],
 "metadata": {
  "kernelspec": {
   "display_name": "Python 3 (ipykernel)",
   "language": "python",
   "name": "python3"
  },
  "language_info": {
   "codemirror_mode": {
    "name": "ipython",
    "version": 3
   },
   "file_extension": ".py",
   "mimetype": "text/x-python",
   "name": "python",
   "nbconvert_exporter": "python",
   "pygments_lexer": "ipython3",
   "version": "3.9.12"
  }
 },
 "nbformat": 4,
 "nbformat_minor": 5
}
